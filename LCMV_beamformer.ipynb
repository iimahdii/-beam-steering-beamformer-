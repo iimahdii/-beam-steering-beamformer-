{
  "nbformat": 4,
  "nbformat_minor": 0,
  "metadata": {
    "colab": {
      "provenance": [],
      "authorship_tag": "ABX9TyMqbu90iUArHwe9G3Jo+oh2",
      "include_colab_link": true
    },
    "kernelspec": {
      "name": "python3",
      "display_name": "Python 3"
    },
    "language_info": {
      "name": "python"
    }
  },
  "cells": [
    {
      "cell_type": "markdown",
      "metadata": {
        "id": "view-in-github",
        "colab_type": "text"
      },
      "source": [
        "<a href=\"https://colab.research.google.com/github/iimahdii/-beam-steering-beamformer-/blob/main/LCMV_beamformer.ipynb\" target=\"_parent\"><img src=\"https://colab.research.google.com/assets/colab-badge.svg\" alt=\"Open In Colab\"/></a>"
      ]
    },
    {
      "cell_type": "code",
      "execution_count": null,
      "metadata": {
        "id": "N2CaodVfJR2k"
      },
      "outputs": [],
      "source": [
        "import numpy as np\n",
        "\n",
        "def lcmv_beamformer(signal_array, steering_vectors, interference_covariance, noise_covariance):\n",
        "    \"\"\"\n",
        "    LCMV Beamformer implementation.\n",
        "\n",
        "    Args:\n",
        "        signal_array (numpy.ndarray): Array containing received signals from different sensors. Each column corresponds to a sensor.\n",
        "        steering_vectors (numpy.ndarray): Array of steering vectors for the desired source(s).\n",
        "        interference_covariance (numpy.ndarray): Covariance matrix of interference sources.\n",
        "        noise_covariance (numpy.ndarray): Covariance matrix of noise.\n",
        "\n",
        "    Returns:\n",
        "        beamformed_output (numpy.ndarray): Beamformed output signal.\n",
        "    \"\"\"\n",
        "    # Calculate the LCMV weights\n",
        "    inv_interference_cov = np.linalg.inv(interference_covariance)\n",
        "    inv_noise_cov = np.linalg.inv(noise_covariance)\n",
        "\n",
        "    numerator = np.dot(steering_vectors.conj().T, inv_interference_cov)\n",
        "    denominator = np.dot(np.dot(steering_vectors.conj().T, inv_noise_cov), steering_vectors)\n",
        "    lcmv_weights = np.dot(numerator, np.linalg.inv(denominator))\n",
        "\n",
        "    # Apply the beamforming weights to the received signals\n",
        "    beamformed_output = np.dot(signal_array, lcmv_weights)\n",
        "\n",
        "    return beamformed_output\n",
        "\n",
        "# Example usage\n",
        "num_sensors = 4\n",
        "num_samples = 100\n",
        "desired_steering = np.array([1, 0.5, 0.2, 0.8])  # Example steering vector\n",
        "\n",
        "# Generate random data for demonstration\n",
        "signal_array = np.random.randn(num_samples, num_sensors)\n",
        "interference_covariance = np.eye(num_sensors)  # Simplified for demonstration\n",
        "noise_covariance = np.eye(num_sensors)         # Simplified for demonstration\n",
        "\n",
        "# Calculate the beamformed output\n",
        "beamformed_output = lcmv_beamformer(signal_array, desired_steering, interference_covariance, noise_covariance)\n",
        "\n",
        "# You can then use the beamformed_output for further processing or analysis.\n"
      ]
    }
  ]
}