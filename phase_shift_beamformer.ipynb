{
  "nbformat": 4,
  "nbformat_minor": 0,
  "metadata": {
    "colab": {
      "provenance": [],
      "authorship_tag": "ABX9TyMZQv6XB5exALbMjCb19BEc",
      "include_colab_link": true
    },
    "kernelspec": {
      "name": "python3",
      "display_name": "Python 3"
    },
    "language_info": {
      "name": "python"
    }
  },
  "cells": [
    {
      "cell_type": "markdown",
      "metadata": {
        "id": "view-in-github",
        "colab_type": "text"
      },
      "source": [
        "<a href=\"https://colab.research.google.com/github/iimahdii/-beam-steering-beamformer-/blob/main/phase_shift_beamformer.ipynb\" target=\"_parent\"><img src=\"https://colab.research.google.com/assets/colab-badge.svg\" alt=\"Open In Colab\"/></a>"
      ]
    },
    {
      "cell_type": "code",
      "execution_count": null,
      "metadata": {
        "id": "N2CaodVfJR2k"
      },
      "outputs": [],
      "source": [
        "import numpy as np\n",
        "import matplotlib.pyplot as plt\n",
        "\n",
        "# Parameters\n",
        "num_elements = 8         # Number of array elements\n",
        "frequency = 1000e6      # Signal frequency (Hz)\n",
        "sound_speed = 1500      # Speed of sound in water (m/s)\n",
        "theta_deg = 30         # Desired steering angle (degrees)\n",
        "\n",
        "# Calculate the wavelength\n",
        "wavelength = sound_speed / frequency\n",
        "\n",
        "# Convert angle from degrees to radians\n",
        "theta_rad = np.radians(theta_deg)\n",
        "\n",
        "# Calculate element spacing based on half-wavelength spacing\n",
        "element_spacing = wavelength / 2\n",
        "\n",
        "# Generate the array manifold matrix\n",
        "array_manifold = np.exp(1j * 2 * np.pi * element_spacing * np.arange(num_elements) * np.sin(theta_rad) / wavelength)\n",
        "\n",
        "# Generate the received signal at each element\n",
        "received_signals = np.exp(1j * 2 * np.pi * frequency * np.arange(num_elements) * np.sin(theta_rad) / sound_speed)\n",
        "\n",
        "# Apply phase shift beamforming\n",
        "beamformed_signal = np.sum(received_signals * array_manifold)\n",
        "\n",
        "# Plot the beamformed signal\n",
        "plt.figure()\n",
        "plt.plot(np.angle(beamformed_signal))\n",
        "plt.title('Phase Shift Beamformed Signal')\n",
        "plt.xlabel('Array Element')\n",
        "plt.ylabel('Phase (radians)')\n",
        "plt.show()\n"
      ]
    }
  ]
}