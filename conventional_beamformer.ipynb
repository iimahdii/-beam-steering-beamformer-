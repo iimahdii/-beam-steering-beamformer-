{
  "nbformat": 4,
  "nbformat_minor": 0,
  "metadata": {
    "colab": {
      "provenance": [],
      "authorship_tag": "ABX9TyPkaxybObkC16vx12lPFa00",
      "include_colab_link": true
    },
    "kernelspec": {
      "name": "python3",
      "display_name": "Python 3"
    },
    "language_info": {
      "name": "python"
    }
  },
  "cells": [
    {
      "cell_type": "markdown",
      "metadata": {
        "id": "view-in-github",
        "colab_type": "text"
      },
      "source": [
        "<a href=\"https://colab.research.google.com/github/iimahdii/-beam-steering-beamformer-/blob/main/conventional_beamformer.ipynb\" target=\"_parent\"><img src=\"https://colab.research.google.com/assets/colab-badge.svg\" alt=\"Open In Colab\"/></a>"
      ]
    },
    {
      "cell_type": "code",
      "execution_count": null,
      "metadata": {
        "id": "N2CaodVfJR2k"
      },
      "outputs": [],
      "source": [
        "import numpy as np\n",
        "import matplotlib.pyplot as plt\n",
        "\n",
        "# Simulated data\n",
        "num_samples = 1000\n",
        "num_mics = 4\n",
        "source_direction = np.array([30, 0])  # Azimuth and elevation angles in degrees\n",
        "noise_direction = np.array([120, 0])  # Azimuth and elevation angles in degrees\n",
        "\n",
        "# Generate random data for microphones\n",
        "np.random.seed(0)\n",
        "microphone_data = np.random.randn(num_mics, num_samples)\n",
        "\n",
        "# Calculate steering vectors for source and noise directions\n",
        "def steering_vector(direction, num_mics, wavelength=1):\n",
        "    azimuth, elevation = np.radians(direction)\n",
        "    return np.exp(-1j * 2 * np.pi * np.arange(num_mics) * (wavelength / 2) * np.sin(elevation) * np.cos(azimuth))\n",
        "\n",
        "source_steering = steering_vector(source_direction, num_mics)\n",
        "noise_steering = steering_vector(noise_direction, num_mics)\n",
        "\n",
        "# Compute the beamformer weights\n",
        "desired_response = np.conj(source_steering)\n",
        "interference_nulling = -np.conj(noise_steering)\n",
        "beamformer_weights = desired_response - interference_nulling\n",
        "\n",
        "# Apply beamforming\n",
        "beamformed_output = np.dot(beamformer_weights, microphone_data)\n",
        "\n",
        "# Plot the results\n",
        "plt.figure(figsize=(10, 6))\n",
        "plt.subplot(3, 1, 1)\n",
        "plt.plot(microphone_data.T)\n",
        "plt.title('Microphone Signals')\n",
        "plt.xlabel('Sample')\n",
        "plt.ylabel('Amplitude')\n",
        "\n",
        "plt.subplot(3, 1, 2)\n",
        "plt.plot(np.angle(beamformer_weights))\n",
        "plt.title('Beamformer Weights Phase')\n",
        "plt.xlabel('Microphone Index')\n",
        "plt.ylabel('Phase (radians)')\n",
        "\n",
        "plt.subplot(3, 1, 3)\n",
        "plt.plot(beamformed_output)\n",
        "plt.title('Beamformed Output')\n",
        "plt.xlabel('Sample')\n",
        "plt.ylabel('Amplitude')\n",
        "\n",
        "plt.tight_layout()\n",
        "plt.show()\n"
      ]
    }
  ]
}