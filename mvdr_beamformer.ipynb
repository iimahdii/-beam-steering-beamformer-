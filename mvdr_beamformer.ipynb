{
  "nbformat": 4,
  "nbformat_minor": 0,
  "metadata": {
    "colab": {
      "provenance": [],
      "authorship_tag": "ABX9TyNq4tcn6fC/tdI/of/hkuFj",
      "include_colab_link": true
    },
    "kernelspec": {
      "name": "python3",
      "display_name": "Python 3"
    },
    "language_info": {
      "name": "python"
    }
  },
  "cells": [
    {
      "cell_type": "markdown",
      "metadata": {
        "id": "view-in-github",
        "colab_type": "text"
      },
      "source": [
        "<a href=\"https://colab.research.google.com/github/iimahdii/-beam-steering-beamformer-/blob/main/mvdr_beamformer.ipynb\" target=\"_parent\"><img src=\"https://colab.research.google.com/assets/colab-badge.svg\" alt=\"Open In Colab\"/></a>"
      ]
    },
    {
      "cell_type": "code",
      "execution_count": null,
      "metadata": {
        "id": "N2CaodVfJR2k"
      },
      "outputs": [],
      "source": [
        "import numpy as np\n",
        "\n",
        "def mvdr_beamformer(signal, steering_vectors, noise_covariance):\n",
        "    \"\"\"\n",
        "    Minimum Variance Distortionless Response (MVDR) Beamformer\n",
        "    Args:\n",
        "    signal (numpy.ndarray): Received signal at array elements.\n",
        "    steering_vectors (numpy.ndarray): Array of steering vectors.\n",
        "    noise_covariance (numpy.ndarray): Covariance matrix of noise.\n",
        "\n",
        "    Returns:\n",
        "    beamformed_output (numpy.ndarray): Beamformed output signal.\n",
        "    \"\"\"\n",
        "    inv_noise_covariance = np.linalg.inv(noise_covariance)\n",
        "    beamformer_weights = np.dot(\n",
        "        np.dot(steering_vectors, inv_noise_covariance),\n",
        "        np.conj(steering_vectors.T)\n",
        "    ) / np.dot(np.conj(steering_vectors), np.dot(inv_noise_covariance, steering_vectors.T))\n",
        "\n",
        "    beamformed_output = np.dot(beamformer_weights, signal)\n",
        "    return beamformed_output\n",
        "\n",
        "# Example usage\n",
        "if __name__ == \"__main__\":\n",
        "    # Define parameters\n",
        "    num_elements = 4\n",
        "    source_angle_deg = 30\n",
        "    noise_angle_deg = 150\n",
        "    signal_freq = 1000  # in Hz\n",
        "    sampling_rate = 10000  # in Hz\n",
        "\n",
        "    # Generate steering vectors\n",
        "    theta = np.deg2rad(np.array([source_angle_deg, noise_angle_deg]))\n",
        "    steering_vectors = np.exp(1j * 2 * np.pi * signal_freq * np.arange(num_elements) / sampling_rate * np.sin(theta))\n",
        "\n",
        "    # Simulate received signal\n",
        "    source_signal = np.random.randn(num_elements) + 1j * np.random.randn(num_elements)\n",
        "    noise_signal = np.random.randn(num_elements) + 1j * np.random.randn(num_elements)\n",
        "    received_signal = source_signal + noise_signal\n",
        "\n",
        "    # Estimate noise covariance (you might use different methods to estimate this in practice)\n",
        "    noise_covariance = np.outer(noise_signal, np.conj(noise_signal)) / num_elements\n",
        "\n",
        "    # Apply MVDR beamforming\n",
        "    beamformed_output = mvdr_beamformer(received_signal, steering_vectors, noise_covariance)\n",
        "\n",
        "    print(\"Beamformed Output:\", beamformed_output)\n"
      ]
    }
  ]
}